{
 "cells": [
  {
   "cell_type": "markdown",
   "metadata": {},
   "source": [
    "# Automate Google Search using Python"
   ]
  },
  {
   "cell_type": "code",
   "execution_count": 90,
   "metadata": {},
   "outputs": [
    {
     "data": {
      "text/plain": [
       "True"
      ]
     },
     "execution_count": 90,
     "metadata": {},
     "output_type": "execute_result"
    }
   ],
   "source": [
    "import pandas as pd\n",
    "import requests\n",
    "import re\n",
    "import os\n",
    "from dotenv import load_dotenv\n",
    "\n",
    "load_dotenv(override=True)"
   ]
  },
  {
   "cell_type": "code",
   "execution_count": 88,
   "metadata": {},
   "outputs": [],
   "source": [
    "api_key = os.getenv(\"CUSTOM_GOOGLE_SEARCH_API_KEY\")\n",
    "search_engine_id = os.getenv(\"SEARCH_ENGINE_ID\")\n",
    "search_query = 'Great Gatsby'\n",
    "\n",
    "exactTerms = 'F. Scott Fitzgerald'\n",
    "dateRestrict = '' \n",
    "\"\"\"\n",
    "'y[2]'  restricts results to the past 2 years, \n",
    "'m[6]' restricts results to the past 6 months, 'd[3]' restricts results to the past 3 days\n",
    "\"\"\"\n",
    "start = 1 #start index of the search results\n",
    "\n",
    "#url = f'https://www.googleapis.com/customsearch/v1?key={api_key}&cx={search_engine_id}&q={search_query}'\n",
    "url = 'https://www.googleapis.com/customsearch/v1'\n",
    "params = {\n",
    "    'q': search_query,\n",
    "    'key': api_key, \n",
    "    'cx': search_engine_id,  \n",
    "}\n",
    "response=requests.get(url, params=params)\n"
   ]
  },
  {
   "cell_type": "code",
   "execution_count": null,
   "metadata": {},
   "outputs": [],
   "source": [
    "\n",
    "results = response.json()\n",
    "print(results)"
   ]
  },
  {
   "cell_type": "code",
   "execution_count": 81,
   "metadata": {},
   "outputs": [
    {
     "name": "stdout",
     "output_type": "stream",
     "text": [
      "None\n"
     ]
    }
   ],
   "source": []
  },
  {
   "cell_type": "code",
   "execution_count": 78,
   "metadata": {},
   "outputs": [],
   "source": []
  },
  {
   "cell_type": "code",
   "execution_count": 79,
   "metadata": {},
   "outputs": [],
   "source": [
    "search_query = 'Great Gatsby'\n",
    "\n",
    "#url = f'https://www.googleapis.com/customsearch/v1?key={API_KEY}&cx={SEARCH_ENGINE_ID}&q={search_query}'\n",
    "url = 'https://www.googleapis.com/customsearch/v1'\n",
    "params = {\n",
    "    'q': search_query,\n",
    "    'key': API_KEY, \n",
    "    'cx': SEARCH_ID  \n",
    "}\n",
    "response=requests.get(url, params=params)"
   ]
  },
  {
   "cell_type": "code",
   "execution_count": 89,
   "metadata": {},
   "outputs": [
    {
     "name": "stdout",
     "output_type": "stream",
     "text": [
      "{'kind': 'customsearch#search', 'url': {'type': 'application/json', 'template': 'https://www.googleapis.com/customsearch/v1?q={searchTerms}&num={count?}&start={startIndex?}&lr={language?}&safe={safe?}&cx={cx?}&sort={sort?}&filter={filter?}&gl={gl?}&cr={cr?}&googlehost={googleHost?}&c2coff={disableCnTwTranslation?}&hq={hq?}&hl={hl?}&siteSearch={siteSearch?}&siteSearchFilter={siteSearchFilter?}&exactTerms={exactTerms?}&excludeTerms={excludeTerms?}&linkSite={linkSite?}&orTerms={orTerms?}&relatedSite={relatedSite?}&dateRestrict={dateRestrict?}&lowRange={lowRange?}&highRange={highRange?}&searchType={searchType}&fileType={fileType?}&rights={rights?}&imgSize={imgSize?}&imgType={imgType?}&imgColorType={imgColorType?}&imgDominantColor={imgDominantColor?}&alt=json'}, 'queries': {'request': [{'title': 'Google Custom Search - Great Gatsby', 'totalResults': '72100000', 'searchTerms': 'Great Gatsby', 'count': 10, 'startIndex': 1, 'inputEncoding': 'utf8', 'outputEncoding': 'utf8', 'safe': 'off', 'cx': '9188ddff871894832'}], 'nextPage': [{'title': 'Google Custom Search - Great Gatsby', 'totalResults': '72100000', 'searchTerms': 'Great Gatsby', 'count': 10, 'startIndex': 11, 'inputEncoding': 'utf8', 'outputEncoding': 'utf8', 'safe': 'off', 'cx': '9188ddff871894832'}]}, 'context': {'title': 'YouTubeEngine'}, 'searchInformation': {'searchTime': 0.333405, 'formattedSearchTime': '0.33', 'totalResults': '72100000', 'formattedTotalResults': '72,100,000'}, 'items': [{'kind': 'customsearch#result', 'title': 'The Great Gatsby - Wikipedia', 'htmlTitle': 'The <b>Great Gatsby</b> - Wikipedia', 'link': 'https://en.wikipedia.org/wiki/The_Great_Gatsby', 'displayLink': 'en.wikipedia.org', 'snippet': \"The novel was inspired by a youthful romance Fitzgerald had with socialite Ginevra King, and the riotous parties he attended on Long Island's North Shore in\\xa0...\", 'htmlSnippet': 'The novel was inspired by a youthful romance Fitzgerald had with socialite Ginevra King, and the riotous parties he attended on Long Island&#39;s North Shore in&nbsp;...', 'cacheId': 'CQKsQBfci-YJ', 'formattedUrl': 'https://en.wikipedia.org/wiki/The_Great_Gatsby', 'htmlFormattedUrl': 'https://en.wikipedia.org/wiki/The_<b>Great</b>_<b>Gatsby</b>', 'pagemap': {'metatags': [{'referrer': 'origin', 'og:image': 'https://upload.wikimedia.org/wikipedia/commons/7/7a/The_Great_Gatsby_Cover_1925_Retouched.jpg', 'theme-color': '#eaecf0', 'og:image:width': '1200', 'og:type': 'website', 'viewport': 'width=device-width, initial-scale=1.0, user-scalable=yes, minimum-scale=0.25, maximum-scale=5.0', 'og:title': 'The Great Gatsby - Wikipedia', 'og:image:height': '1701', 'format-detection': 'telephone=no'}]}}, {'kind': 'customsearch#result', 'title': 'The Great Gatsby (2013) - IMDb', 'htmlTitle': 'The <b>Great Gatsby</b> (2013) - IMDb', 'link': 'https://www.imdb.com/title/tt1343092/', 'displayLink': 'www.imdb.com', 'snippet': 'The Great Gatsby: Directed by Baz Luhrmann. With Lisa Adam, Frank Aldridge, Amitabh Bachchan, Steve Bisley. A writer and wall street trader, Nick Carraway,\\xa0...', 'htmlSnippet': 'The <b>Great Gatsby</b>: Directed by Baz Luhrmann. With Lisa Adam, Frank Aldridge, Amitabh Bachchan, Steve Bisley. A writer and wall street trader, Nick Carraway,&nbsp;...', 'cacheId': 'Dkf-vR4PuQwJ', 'formattedUrl': 'https://www.imdb.com/title/tt1343092/', 'htmlFormattedUrl': 'https://www.imdb.com/title/tt1343092/', 'pagemap': {'cse_thumbnail': [{'src': 'https://encrypted-tbn1.gstatic.com/images?q=tbn:ANd9GcQYQVwny9RHuRZXfD0ZYbjmokxMvOXaLZh5_l-U0J0CZp71SWEG_8mHHfRP', 'width': '183', 'height': '275'}], 'metatags': [{'og:image': 'https://m.media-amazon.com/images/M/MV5BMTkxNTk1ODcxNl5BMl5BanBnXkFtZTcwMDI1OTMzOQ@@._V1_FMjpg_UX1000_.jpg', 'og:type': 'video.movie', 'og:image:width': '1000', 'twitter:title': 'The Great Gatsby (2013) ⭐ 7.2 | Drama, Romance', 'twitter:card': 'summary_large_image', 'imdb:subpagetype': 'main', 'og:site_name': 'IMDb', 'og:title': 'The Great Gatsby (2013) ⭐ 7.2 | Drama, Romance', 'imdb:pageconst': 'tt1343092', 'og:image:height': '1501.5015015015015', 'og:description': '2h 23m | PG-13', 'twitter:image': 'https://m.media-amazon.com/images/M/MV5BMTkxNTk1ODcxNl5BMl5BanBnXkFtZTcwMDI1OTMzOQ@@._V1_FMjpg_UX1000_.jpg', 'next-head-count': '41', 'twitter:image:alt': 'The Great Gatsby: Directed by Baz Luhrmann. With Lisa Adam, Frank Aldridge, Amitabh Bachchan, Steve Bisley. A writer and wall street trader, Nick Carraway, finds himself drawn to the past and lifestyle of his mysterious millionaire neighbor, Jay Gatsby, amid the riotous parties of the Jazz Age.', 'twitter:site': '@IMDb', 'og:locale:alternate': 'es_ES', 'viewport': 'width=device-width', 'twitter:description': '2h 23m | PG-13', 'og:locale': 'en_US', 'og:url': 'https://www.imdb.com/title/tt1343092/', 'imdb:pagetype': 'title'}], 'cse_image': [{'src': 'https://m.media-amazon.com/images/M/MV5BMTkxNTk1ODcxNl5BMl5BanBnXkFtZTcwMDI1OTMzOQ@@._V1_FMjpg_UX1000_.jpg'}]}}, {'kind': 'customsearch#result', 'title': 'The Great Gatsby | Movies - WarnerBros.com', 'htmlTitle': 'The Great Gatsby | Movies - WarnerBros.com', 'link': 'https://www.warnerbros.com/movies/great-gatsby', 'displayLink': 'www.warnerbros.com', 'snippet': \"... Great Gatsby - Key Art. About. The uniquely imaginative Baz Luhrmann (Moulin Rouge!, Australia) tackles F. Scott Fitzgerald''s landmark novel, The Great Gatsby\\xa0...\", 'htmlSnippet': '... <b>Great Gatsby</b> - Key Art. About. The uniquely imaginative Baz Luhrmann (Moulin Rouge!, Australia) tackles F. Scott Fitzgerald&#39;&#39;s landmark novel, The <b>Great Gatsby</b>&nbsp;...', 'cacheId': 'huqsWnYs_TUJ', 'formattedUrl': 'https://www.warnerbros.com/movies/great-gatsby', 'htmlFormattedUrl': 'https://www.warnerbros.com/movies/<b>great</b>-<b>gatsby</b>', 'pagemap': {'cse_thumbnail': [{'src': 'https://encrypted-tbn2.gstatic.com/images?q=tbn:ANd9GcRX3pU8rm49_lQLgLyLAUcCVK-kRXTZIDsU33dQLaX3z_6WhoExGXyiMFs', 'width': '183', 'height': '275'}], 'metatags': [{'viewport': 'width=device-width, initial-scale=1, shrink-to-fit=no'}], 'cse_image': [{'src': 'https://irs.www.warnerbros.com/keyart-jpeg/movies/media/browser/the_great_gatsby_key_art.jpg'}]}}, {'kind': 'customsearch#result', 'title': 'The Great Gatsby: The Only Authorized Edition: Fitzgerald, F. Scott ...', 'htmlTitle': 'The <b>Great Gatsby</b>: The Only Authorized Edition: Fitzgerald, F. Scott ...', 'link': 'https://www.amazon.com/Great-Gatsby-F-Scott-Fitzgerald/dp/0743273567', 'displayLink': 'www.amazon.com', 'snippet': 'The Great Gatsby: The Only Authorized Edition [Fitzgerald, F. Scott] on Amazon.com. *FREE* shipping on qualifying offers. The Great Gatsby: The Only\\xa0...', 'htmlSnippet': 'The <b>Great Gatsby</b>: The Only Authorized Edition [Fitzgerald, F. Scott] on Amazon.com. *FREE* shipping on qualifying offers. The <b>Great Gatsby</b>: The Only&nbsp;...', 'formattedUrl': 'https://www.amazon.com/Great-Gatsby-F-Scott-Fitzgerald/.../0743273567', 'htmlFormattedUrl': 'https://www.amazon.com/<b>Great</b>-<b>Gatsby</b>-F-Scott-Fitzgerald/.../0743273567', 'pagemap': {'scraped': [{'image_link': 'https://m.media-amazon.com/images/I/81QuEGw8VPL._AC_UF1000,1000_QL80_.jpg'}], 'cse_thumbnail': [{'src': 'https://encrypted-tbn3.gstatic.com/images?q=tbn:ANd9GcRiOB1x6InHiq9YC5JL62ByDCOF3B-DTPmRzcBwU_87a6A7U3weqgK0eDqt', 'width': '225', 'height': '225'}], 'metatags': [{'og:image': 'https://m.media-amazon.com/images/I/41IkR2Ml51L._SR600%2c315_PIWhiteStrip%2cBottomLeft%2c0%2c35_PIStarRatingFOURANDHALF%2cBottomLeft%2c360%2c-6_SR600%2c315_ZA17%252C852%2c445%2c290%2c400%2c400%2cAmazonEmberBold%2c12%2c4%2c0%2c0%2c5_SCLZZZZZZZ_FMpng_BG255%2c255%2c255.jpg', 'theme-color': '#131921', 'viewport': 'width=device-width, maximum-scale=1, minimum-scale=1, initial-scale=1, user-scalable=no, shrink-to-fit=no', 'og:title': 'The Great Gatsby: The Only Authorized Edition', 'og:url': 'https://www.amazon.com/dp/0743273567/ref=tsm_1_fb_lk', 'title': 'The Great Gatsby: The Only Authorized Edition: Fitzgerald, F. Scott: 9780743273565: Amazon.com: Books', 'og:description': 'The Great Gatsby: The Only Authorized Edition [Fitzgerald, F. Scott] on Amazon.com. *FREE* shipping on qualifying offers. The Great Gatsby: The Only Authorized Edition'}], 'cse_image': [{'src': 'https://images-na.ssl-images-amazon.com/images/I/71FTb9X6wsL._AC_UL600_SR600,600_.jpg'}]}}, {'kind': 'customsearch#result', 'title': 'The Great Gatsby: Full Book Summary | SparkNotes', 'htmlTitle': 'The <b>Great Gatsby</b>: Full Book Summary | SparkNotes', 'link': 'https://www.sparknotes.com/lit/gatsby/summary/', 'displayLink': 'www.sparknotes.com', 'snippet': 'Gatsby tells Jordan that he knew Daisy in Louisville in 1917 and is deeply in love with her. He spends many nights staring at the green light at the end of her\\xa0...', 'htmlSnippet': '<b>Gatsby</b> tells Jordan that he knew Daisy in Louisville in 1917 and is deeply in love with her. He spends many nights staring at the green light at the end of her&nbsp;...', 'cacheId': '1htm5Y-U6ogJ', 'formattedUrl': 'https://www.sparknotes.com/lit/gatsby/summary/', 'htmlFormattedUrl': 'https://www.sparknotes.com/lit/<b>gatsby</b>/summary/', 'pagemap': {'cse_thumbnail': [{'src': 'https://encrypted-tbn0.gstatic.com/images?q=tbn:ANd9GcRGrAkxUG79dl6Yaxl265iz8UpGoL8t9atucDby8MlJaK3dt-kacHMyUrIc', 'width': '310', 'height': '163'}], 'metatags': [{'og:image': 'https://img.sparknotes.com/sparknotes_new-1200x630.jpg', 'theme-color': '#007ACD', 'twitter:card': 'summary', 'og:site_name': 'SparkNotes', 'twitter:site': '@SparkNotes', 'viewport': 'width=device-width, initial-scale=1', 'og:title': 'The Great Gatsby: Full Book Summary | SparkNotes', 'og:url': 'https://www.sparknotes.com/lit/gatsby/summary/', 'og:description': \"A short summary of F. Scott Fitzgerald's The Great Gatsby. This free synopsis covers all the crucial plot points of The Great Gatsby.\"}], 'cse_image': [{'src': 'https://img.sparknotes.com/sparknotes_new-1200x630.jpg'}]}}, {'kind': 'customsearch#result', 'title': \"Great Gatsby's Auction Gallery Atlanta, GA - Great Gatsby's Auction ...\", 'htmlTitle': '<b>Great Gatsby&#39;s</b> Auction Gallery Atlanta, GA - <b>Great Gatsby&#39;s</b> Auction ...', 'link': 'https://greatgatsbys.com/', 'displayLink': 'greatgatsbys.com', 'snippet': \"Jul 4, 2022 ... Address. Great Gatsby's Auction Gallery, Inc. 5180 Peachtree Blvd. Atlanta, Georgia 30341. Contact. Phone: 770-457-1903. Email: Auction\\xa0...\", 'htmlSnippet': 'Jul 4, 2022 <b>...</b> Address. <b>Great Gatsby&#39;s</b> Auction Gallery, Inc. 5180 Peachtree Blvd. Atlanta, Georgia 30341. Contact. Phone: 770-457-1903. Email: Auction&nbsp;...', 'cacheId': 'pldQbUJXI5MJ', 'formattedUrl': 'https://greatgatsbys.com/', 'htmlFormattedUrl': 'https://<b>greatgatsby</b>s.com/', 'pagemap': {'cse_thumbnail': [{'src': 'https://encrypted-tbn1.gstatic.com/images?q=tbn:ANd9GcQ5Qx36yeSzm0p9Gk4oxocIt_HKOUM3S144fV887BoiVbKOXlJiDeDd9Ak', 'width': '300', 'height': '168'}], 'metatags': [{'p:domain_verify': '7b56709fd4864f2f78bdd8a5fab019c1', 'og:image': 'https://greatgatsbys.wpengine.com/wp-content/uploads/2017/07/GreatGatsbys-logo-inside132.jpg', 'og:type': 'website', 'twitter:card': 'summary_large_image', 'og:site_name': \"Great Gatsby's Auction Gallery - Atlanta, GA\", 'article:modified_time': '2022-07-04T13:19:34+00:00', 'viewport': 'width=device-width, initial-scale=1', 'og:title': \"Great Gatsby's Auction Gallery Atlanta, GA - Great Gatsby's Auction Gallery - Atlanta, GA\", 'og:locale': 'en_US', 'og:url': 'https://greatgatsbys.com/'}], 'cse_image': [{'src': 'https://greatgatsbys.com/wp-content/uploads/2022/04/GG-Closing_v2.jpg'}], 'hatomfeed': [{}]}}, {'kind': 'customsearch#result', 'title': 'The Great Gatsby', 'htmlTitle': 'The <b>Great Gatsby</b>', 'link': 'https://www.wsfcs.k12.nc.us/cms/lib/NC01001395/Centricity/Domain/7935/Gatsby_PDF_FullText.pdf', 'displayLink': 'www.wsfcs.k12.nc.us', 'snippet': \"I hadn't asked Jordan to tea in order to discuss Mr. Jay Gatsby. I was sure the request would be something utterly fantastic, and for a moment I was sorry. I'd\\xa0...\", 'htmlSnippet': 'I hadn&#39;t asked Jordan to tea in order to discuss Mr. <b>Jay Gatsby</b>. I was sure the request would be something utterly fantastic, and for a moment I was sorry. I&#39;d&nbsp;...', 'cacheId': 'Qzes03sNGtYJ', 'formattedUrl': 'https://www.wsfcs.k12.nc.us/cms/lib/.../7935/Gatsby_PDF_FullText.pdf', 'htmlFormattedUrl': 'https://www.wsfcs.k12.nc.us/cms/lib/.../7935/<b>Gatsby</b>_PDF_FullText.pdf', 'pagemap': {'metatags': [{'moddate': \"D:20140602202324+02'00'\", 'creator': 'HTML Tidy for FreeBSD (vers 7 December 2008), see www.w3.org', 'subject': 'Fiction, Literary, Romance', 'author': 'Fitzgerald, Francis Scott', 'producer': 'PDFsharp 1.31.1789-g (www.pdfsharp.com) (Original: Prince 6.0 (www.princexml.com))', 'title': 'The Great Gatsby'}]}, 'mime': 'application/pdf', 'fileFormat': 'PDF/Adobe Acrobat'}, {'kind': 'customsearch#result', 'title': 'The Great Gatsby by F. Scott Fitzgerald | Goodreads', 'htmlTitle': 'The <b>Great Gatsby</b> by F. Scott Fitzgerald | Goodreads', 'link': 'https://www.goodreads.com/book/show/4671.The_Great_Gatsby', 'displayLink': 'www.goodreads.com', 'snippet': 'The story of the fabulously wealthy Jay Gatsby and his love for the beautiful Daisy Buchanan, of lavish parties on Long Island at a time when The New York Times\\xa0...', 'htmlSnippet': 'The story of the fabulously wealthy <b>Jay Gatsby</b> and his love for the beautiful Daisy Buchanan, of lavish parties on Long Island at a time when The New York Times&nbsp;...', 'cacheId': '-D25zi9PmwEJ', 'formattedUrl': 'https://www.goodreads.com/book/show/4671.The_Great_Gatsby', 'htmlFormattedUrl': 'https://www.goodreads.com/book/show/4671.The_<b>Great</b>_<b>Gatsby</b>', 'pagemap': {'cse_thumbnail': [{'src': 'https://encrypted-tbn3.gstatic.com/images?q=tbn:ANd9GcR54FT8Q_9DoV_IUvB-3e8MK1WYxn6fIwCPcRznrNIxAWK6QbE8im304A', 'width': '83', 'height': '129'}], 'metatags': [{'og:image': 'https://images-na.ssl-images-amazon.com/images/S/compressed.photo.goodreads.com/books/1490528560i/4671.jpg', 'next-head-count': '6', 'og:type': 'books.book', 'og:site_name': 'Goodreads', 'viewport': 'width=device-width', 'og:title': 'The Great Gatsby', 'og:url': 'https://www.goodreads.com/book/show/4671.The_Great_Gatsby', 'og:description': \"The Great Gatsby, F. Scott Fitzgerald's third book, sta…\"}], 'cse_image': [{'src': 'https://images-na.ssl-images-amazon.com/images/S/compressed.photo.goodreads.com/books/1490528560i/4671.jpg'}]}}, {'kind': 'customsearch#result', 'title': 'What is The Great Gatsby Curve? | whitehouse.gov', 'htmlTitle': 'What is The <b>Great Gatsby</b> Curve? | whitehouse.gov', 'link': 'https://obamawhitehouse.archives.gov/blog/2013/06/11/what-great-gatsby-curve', 'displayLink': 'obamawhitehouse.archives.gov', 'snippet': 'Jun 11, 2013 ... Summary: The Great Gatsby Curve illustrates the connection between concentration of wealth in one generation and the ability of those in the\\xa0...', 'htmlSnippet': 'Jun 11, 2013 <b>...</b> Summary: The <b>Great Gatsby</b> Curve illustrates the connection between concentration of wealth in one generation and the ability of those in the&nbsp;...', 'cacheId': '76yaNwJc9wkJ', 'formattedUrl': 'https://obamawhitehouse.archives.gov/blog/2013/.../what-great-gatsby-curv...', 'htmlFormattedUrl': 'https://obamawhitehouse.archives.gov/blog/2013/.../what-<b>great</b>-<b>gatsby</b>-curv...', 'pagemap': {'cse_thumbnail': [{'src': 'https://encrypted-tbn1.gstatic.com/images?q=tbn:ANd9GcQf1pJsP7x33qEM9rfkXOdZN6JCvjGc3FZ7WWmY-z0aYynW2H494ukz4jfm', 'width': '225', 'height': '225'}], 'Item': [{'num_replies': '0', 'title': \"Watch President Obama's final State of the Union address.\"}, {'num_replies': '0', 'title': 'Read what the President is looking for in his next Supreme Court nominee.'}, {'num_replies': '0', 'title': \"Take a look at America's three newest national monuments.\"}], 'metatags': [{'msapplication-config': 'https://obamawhitehouse.archives.gov/sites/obamawhitehouse.archives.gov/themes/custom/fortyfour/browserconfig.xml', 'og:image': 'https://obamawhitehouse.archives.gov/sites/whitehouse.gov/files/images/twitter_cards_blog.jpg', 'msapplication-square70x70logo': 'https://obamawhitehouse.archives.gov/sites/obamawhitehouse.archives.gov/themes/custom/fortyfour/images/fortyfour/favicons/mstile-70x70.png', 'og:image:width': '240', 'twitter:card': 'summary', 'article:published_time': '2013-06-11T13:45:20-04:00', 'og:site_name': 'whitehouse.gov', 'twitter:url': 'https://obamawhitehouse.archives.gov/blog/2013/06/11/what-great-gatsby-curve', 'twitter:image:height': '240', 'msapplication-wide310x150logo': 'https://obamawhitehouse.archives.gov/sites/obamawhitehouse.archives.gov/themes/custom/fortyfour/images/fortyfour/favicons/mstile-310x150.png', 'og:image:type': 'image/jpeg', 'msapplication-tileimage': 'https://obamawhitehouse.archives.gov/sites/obamawhitehouse.archives.gov/themes/custom/fortyfour/images/fortyfour/favicons/mstile-70x70.png', 'og:description': 'The Great Gatsby Curve illustrates the connection between concentration of wealth in one generation and the ability of those in the next generation to move up the economic ladder compared to their parents.', 'twitter:creator': '@WhiteHouse', 'og:image:secure_url': 'https://obamawhitehouse.archives.gov/sites/whitehouse.gov/files/images/twitter_cards_blog.jpg', 'twitter:image': 'https://obamawhitehouse.archives.gov/sites/whitehouse.gov/files/images/twitter_cards_blog.jpg', 'twitter:site': '@WhiteHouse', 'twitter:image:width': '240', 'article:modified_time': '2013-07-02T13:36:28-04:00', 'msapplication-square310x310logo': 'https://obamawhitehouse.archives.gov/sites/obamawhitehouse.archives.gov/themes/custom/fortyfour/images/fortyfour/favicons/mstile-310x310.png', 'application-name': 'Whitehouse', 'msapplication-tilecolor': '#003C80', 'og:type': 'article', 'twitter:title': 'What is The Great Gatsby Curve?', 'handheldfriendly': 'true', 'og:title': 'What is The Great Gatsby Curve?', 'og:image:height': '240', 'og:updated_time': '2013-07-02T13:36:28-04:00', 'msapplication-square150x150logo': 'https://obamawhitehouse.archives.gov/sites/obamawhitehouse.archives.gov/themes/custom/fortyfour/images/fortyfour/favicons/mstile-150x150.png', 'viewport': 'width=device-width', 'mobileoptimized': 'width', 'og:url': 'https://obamawhitehouse.archives.gov/blog/2013/06/11/what-great-gatsby-curve'}], 'cse_image': [{'src': 'https://obamawhitehouse.archives.gov/sites/whitehouse.gov/files/images/twitter_cards_blog.jpg'}]}}, {'kind': 'customsearch#result', 'title': 'The Great Gatsby: The Immersive Show', 'htmlTitle': 'The <b>Great Gatsby</b>: The Immersive Show', 'link': 'https://www.immersivegatsby.com/', 'displayLink': 'www.immersivegatsby.com', 'snippet': \"Welcome back to the roaring twenties. You are invited to one of Jay Gatsby's infamous parties. As invites go, this is the hottest ticket in town.\", 'htmlSnippet': 'Welcome back to the roaring twenties. You are invited to one of <b>Jay Gatsby&#39;s</b> infamous parties. As invites go, this is the hottest ticket in town.', 'cacheId': 'yWlAj2f4bkAJ', 'formattedUrl': 'https://www.immersivegatsby.com/', 'htmlFormattedUrl': 'https://www.immersive<b>gatsby</b>.com/', 'pagemap': {'cse_thumbnail': [{'src': 'https://encrypted-tbn1.gstatic.com/images?q=tbn:ANd9GcSb1yDecwAclCY-6rA6Iqp0-EfolDFXIRRlOypFPB2votKdVsbJvsdKFsHq', 'width': '305', 'height': '165'}], 'metatags': [{'og:image': 'https://uploads-ssl.webflow.com/632d60f11885aa2d6feaa740/632da64e162522e45549a553_s-5.jpg', 'twitter:title': 'The Great Gatsby: The Immersive Show', 'og:type': 'website', 'twitter:card': 'summary_large_image', 'viewport': 'width=device-width, initial-scale=1', 'twitter:description': \"Welcome back to the roaring twenties. You are invited to one of Jay Gatsby's infamous parties. As invites go, this is the hottest ticket in town. A world of red-hot rhythms, bootleg liquor, and pure jazz age self-indulgence awaits. Spend the evening dancing and clinking glasses with Nick Carraway, Daisy and Tom Buchanan, Myrtle Wilson, and Jay Gatsby himself. As the champagne flows, all the drama unfolds. Dress to the nines and immerse yourself in this heart racing adaptation of F. Scott Fitzgerald’s seminal tale.\", 'og:title': 'The Great Gatsby: The Immersive Show', 'og:description': \"Welcome back to the roaring twenties. You are invited to one of Jay Gatsby's infamous parties. As invites go, this is the hottest ticket in town. A world of red-hot rhythms, bootleg liquor, and pure jazz age self-indulgence awaits. Spend the evening dancing and clinking glasses with Nick Carraway, Daisy and Tom Buchanan, Myrtle Wilson, and Jay Gatsby himself. As the champagne flows, all the drama unfolds. Dress to the nines and immerse yourself in this heart racing adaptation of F. Scott Fitzgerald’s seminal tale.\", 'twitter:image': 'https://uploads-ssl.webflow.com/632d60f11885aa2d6feaa740/632da64e162522e45549a553_s-5.jpg'}], 'cse_image': [{'src': 'https://uploads-ssl.webflow.com/632d60f11885aa2d6feaa740/632da64e162522e45549a553_s-5.jpg'}]}}]}\n"
     ]
    }
   ],
   "source": [
    "results = response.json()\n",
    "print(results)"
   ]
  },
  {
   "cell_type": "code",
   "execution_count": null,
   "metadata": {},
   "outputs": [],
   "source": []
  }
 ],
 "metadata": {
  "kernelspec": {
   "display_name": "venv",
   "language": "python",
   "name": "python3"
  },
  "language_info": {
   "codemirror_mode": {
    "name": "ipython",
    "version": 3
   },
   "file_extension": ".py",
   "mimetype": "text/x-python",
   "name": "python",
   "nbconvert_exporter": "python",
   "pygments_lexer": "ipython3",
   "version": "3.12.0"
  }
 },
 "nbformat": 4,
 "nbformat_minor": 2
}
